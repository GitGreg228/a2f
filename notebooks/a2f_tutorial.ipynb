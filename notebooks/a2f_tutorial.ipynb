{
  "nbformat": 4,
  "nbformat_minor": 0,
  "metadata": {
    "colab": {
      "name": "a2f_tutorial.ipynb",
      "provenance": []
    },
    "kernelspec": {
      "name": "python3",
      "display_name": "Python 3"
    },
    "language_info": {
      "name": "python"
    }
  },
  "cells": [
    {
      "cell_type": "markdown",
      "source": [
        "## Installing librariess\n",
        "before start, you should have the following libraries in your environment: **matplotlib**, **scipy**, **numpy**, **pandas** and **pymatgen**"
      ],
      "metadata": {
        "id": "z6HWoudwvA96"
      }
    },
    {
      "cell_type": "code",
      "source": [
        "!pip -q install pymatgen"
      ],
      "metadata": {
        "colab": {
          "base_uri": "https://localhost:8080/"
        },
        "id": "C5UucTDDvD-d",
        "outputId": "e6bc425b-275d-49a7-ba18-11a40cfa2b58"
      },
      "execution_count": null,
      "outputs": [
        {
          "output_type": "stream",
          "name": "stdout",
          "text": [
            "\u001b[K     |████████████████████████████████| 40.6 MB 1.4 MB/s \n",
            "\u001b[?25h  Installing build dependencies ... \u001b[?25l\u001b[?25hdone\n",
            "  Getting requirements to build wheel ... \u001b[?25l\u001b[?25hdone\n",
            "  Installing backend dependencies ... \u001b[?25l\u001b[?25hdone\n",
            "    Preparing wheel metadata ... \u001b[?25l\u001b[?25hdone\n",
            "\u001b[K     |████████████████████████████████| 38.1 MB 1.3 MB/s \n",
            "\u001b[K     |████████████████████████████████| 292 kB 77.2 MB/s \n",
            "\u001b[K     |████████████████████████████████| 98 kB 6.9 MB/s \n",
            "\u001b[K     |████████████████████████████████| 65 kB 3.4 MB/s \n",
            "\u001b[K     |████████████████████████████████| 109 kB 75.3 MB/s \n",
            "\u001b[K     |████████████████████████████████| 546 kB 70.4 MB/s \n",
            "\u001b[?25h  Building wheel for pymatgen (PEP 517) ... \u001b[?25l\u001b[?25hdone\n",
            "\u001b[31mERROR: pip's dependency resolver does not currently take into account all the packages that are installed. This behaviour is the source of the following dependency conflicts.\n",
            "albumentations 0.1.12 requires imgaug<0.2.7,>=0.2.5, but you have imgaug 0.2.9 which is incompatible.\u001b[0m\n"
          ]
        }
      ]
    },
    {
      "cell_type": "markdown",
      "source": [
        "## Starting folder\n",
        "Please go `src/` folder using `cd`."
      ],
      "metadata": {
        "id": "uXsD2gxl7r6b"
      }
    },
    {
      "cell_type": "code",
      "source": [
        "cd src/"
      ],
      "metadata": {
        "colab": {
          "base_uri": "https://localhost:8080/"
        },
        "id": "1P7HVQZNwdw-",
        "outputId": "7032e439-c7da-4766-b9be-e4828060cf74"
      },
      "execution_count": null,
      "outputs": [
        {
          "output_type": "stream",
          "name": "stdout",
          "text": [
            "/content/drive/MyDrive/Research_MIPT/Codes/cms-scripts/a2f/src\n"
          ]
        }
      ]
    },
    {
      "cell_type": "markdown",
      "source": [
        "# Working on example\n",
        "## Getting path to the Quantum Espresso outputs\n",
        "You should have specify the path to the outputs further. In this example, it will be `../examples-public/La2H20`"
      ],
      "metadata": {
        "id": "u-WYUbvP8RnS"
      }
    },
    {
      "cell_type": "code",
      "source": [
        "ls ../examples-public/La2H20"
      ],
      "metadata": {
        "id": "7svF--6K8N0y",
        "colab": {
          "base_uri": "https://localhost:8080/"
        },
        "outputId": "572b5e57-4fe2-4a09-d0dd-4b3b70312a8f"
      },
      "execution_count": null,
      "outputs": [
        {
          "output_type": "stream",
          "name": "stdout",
          "text": [
            "La2H20.dyn1.elph.1  La2H20.dyn3.elph.3  La2H20.ph.out\n",
            "La2H20.dyn2.elph.2  La2H20.dyn4.elph.4\n"
          ]
        }
      ]
    },
    {
      "cell_type": "markdown",
      "source": [
        "there are four `dyn*.elph.*` and one `ph.out` files present. \n",
        "\n",
        "`dyn*.elph.*` contains\n",
        "\n",
        "\n",
        "1.   q-point coordinates at the Brillouine zone (1st line)\n",
        "2.   squared frequencies in Ry\n",
        "3.   DOS at Fermi level $n(ɛ_F)$ in states/spin/Ry/Unit Cell and Fermi level energy $ɛ_F$ in eV\n",
        "4.   The values of electron-phonon coupling parametes $\\lambda_{\\mathrm{q}\\omega_i}$ and  phonon linewidth $\\gamma_{\\mathrm{q}\\omega_i}$ at given frequencies $\\omega_i$ and given q-point coordinate $\\mathrm{q}$ (single `dyn*.elph.*` file corresponds to single q-point.)\n",
        "\n"
      ],
      "metadata": {
        "id": "UbBioBgbxIbJ"
      }
    },
    {
      "cell_type": "markdown",
      "source": [
        "# Theoretical explanation of math operations present in code"
      ],
      "metadata": {
        "id": "dgBA8n1c8ZKS"
      }
    },
    {
      "cell_type": "markdown",
      "source": [
        "## Direct computing\n",
        "Electron-phonon coupling parameter $\\lambda$, logarithmic average frequency $\\omega_{\\log}$, mean square frequency $\\omega_2$ can be obtained using:\n",
        "\n",
        "$$\n",
        "\\lambda = \\sum_{\\omega_i} \\lambda_{\\mathrm{q}\\omega_i}\n",
        "$$\n",
        "$$\n",
        "\\omega_{\\log} = \\exp\\left[\\frac{1}{\\lambda} \\sum_{\\omega_i} \\lambda_{\\mathrm{q}\\omega_i} \\log \\omega_i\\right]\n",
        "$$\n",
        "$$\n",
        "\\omega_2 = \\sqrt{\\sum_{\\omega_i} \\lambda_{\\mathrm{q}\\omega_i} \\omega_i^2}\n",
        "$$\n",
        "where $\\mathrm{q}$ is q-point, $\\lambda_{\\mathrm{q}\\omega_i}$ and $\\omega_i$ are EPC parameter and frequency, respectively.\n",
        "\n",
        "Note that electron-phonon coupling parameters $\\lambda_{\\mathrm{q}\\omega_i}$ and  phonon linewidths $\\gamma_{\\mathrm{q}\\omega_i}$ (also appears in `dyn*.elph.*`) are connected:\n",
        "\n",
        "$$\n",
        "\\lambda_{\\mathrm{q}\\omega_i} = \\frac{\\gamma_{\\mathrm{q}\\omega_i}}{\\pi n(ɛ_F)\\omega_i^2}\n",
        "$$\n",
        "\n",
        "and both can be used.\n",
        "\n",
        "Then you can calculate McMillan $T_{\\mathrm{C}}$:\n",
        "\n",
        "$$\n",
        "    T_{\\mathrm{C}}=\\omega_{\\log } \\frac{f_{1} f_{2}}{1.2} \\exp \\left[\\frac{-1.04(1+\\lambda)}{\\lambda-\\mu^{*}-0.62 \\lambda \\mu^{*}}\\right]\n",
        "$$\n",
        "\n",
        "using $f_{1} f_{2}$ = 1, and Allen-Dynes $T_{\\mathrm{C}}$ using \n",
        "\n",
        "$$\n",
        "    f_{1} f_{2}=\\sqrt[3]{1+\\left[\\frac{\\lambda}{2.46\\left(1+3.8 \\mu^{*}\\right)}\\right]^{3 / 2}} \\nonumber \\cdot\\left[1-\\frac{\\lambda^{2}\\left(1-\\omega_{2} / \\omega_{\\log }\\right)}{\\lambda^{2}+3.312\\left(1+6.3 \\mu^{*}\\right)^{2}}\\right]\n",
        "$$\n",
        "\n",
        "where $\\mu^*$ is the Coulomb pseudopotential and usually assumed to be equal to 0.1."
      ],
      "metadata": {
        "id": "46gTpPxY65Xb"
      }
    },
    {
      "cell_type": "markdown",
      "source": [
        "## $\\alpha^2f(\\omega)$ computing\n",
        "\n",
        "Also, you can get Eliashberg function $\\alpha^2f(\\omega)$. Indeed, using\n",
        "\n",
        "$$\n",
        "    \\lambda=\\int_{0}^{\\omega_{\\max }} \\frac{2 \\alpha^{2} F(\\omega)}{\\omega} \\mathrm{d} \\omega\n",
        "$$\n",
        "\n",
        "you can get "
      ],
      "metadata": {
        "id": "yPEm0_Ev8c74"
      }
    },
    {
      "cell_type": "markdown",
      "source": [
        "## Running code\n",
        "run the following command:\n",
        "```\n",
        "python main.py -p ../examples-public/La2H20\n",
        "```"
      ],
      "metadata": {
        "id": "W7AKe_y0611M"
      }
    },
    {
      "cell_type": "code",
      "source": [
        "!python main.py -p ../examples-public/La2H20"
      ],
      "metadata": {
        "colab": {
          "base_uri": "https://localhost:8080/"
        },
        "id": "qspWVDBAw4qU",
        "outputId": "b23ac64e-6fee-4557-fc55-8f70c6b88189"
      },
      "execution_count": null,
      "outputs": [
        {
          "output_type": "stream",
          "name": "stdout",
          "text": [
            "Found dyn_elphs in ../examples-public/La2H20/La2H20.dyn1.elph.1, ../examples-public/La2H20/La2H20.dyn2.elph.2, ../examples-public/La2H20/La2H20.dyn4.elph.4, ../examples-public/La2H20/La2H20.dyn3.elph.3\n",
            "Found ph.outs in ../examples-public/La2H20/La2H20.ph.out\n",
            "\n",
            "The structure under consideration is 2x of Fm-3m-LaH10.\n",
            "q = (0.167, 0.167, 0.177) with number of q in the star 8\n",
            "q = (0.167, -0.500, 0.177) with number of q in the star 4\n",
            "q = (-0.500, 0.167, 0.177) with number of q in the star 4\n",
            "q = (-0.500, -0.500, 0.177) with number of q in the star 2\n",
            "With the smoothing of 3 THz, direct lambda = 4.004, direct wlog = 736 K, direct w2 = 1112 K.\n",
            "After calculating alpha2f on resolution r = 233 and applying gaussian filter with sigma = 1, interp lambda = 4.009, interp wlog = 765 K, interp w2 = 1124 K.\n",
            "Mu = 0.1. Calculated McMillan Tc = 147.724 (153.625) K, calculated Allen-Dynes Tc = 258.615 (258.615) K\n",
            "/content/drive/MyDrive/Research_MIPT/Codes/cms-scripts/a2f/src/plotters.py:147: UserWarning: This figure includes Axes that are not compatible with tight_layout, so results might be incorrect.\n",
            "  plt.tight_layout()\n",
            "Eliashberg Tc = 280.142+-0.001 K\n"
          ]
        }
      ]
    },
    {
      "cell_type": "markdown",
      "source": [
        "You can then observe the results folder"
      ],
      "metadata": {
        "id": "28axLcKlxuAy"
      }
    },
    {
      "cell_type": "code",
      "source": [
        "ls ../examples-public/La2H20"
      ],
      "metadata": {
        "colab": {
          "base_uri": "https://localhost:8080/"
        },
        "id": "rJALSFYxxna2",
        "outputId": "076dcf01-8c60-4cec-83ea-d5bf26416a22"
      },
      "execution_count": null,
      "outputs": [
        {
          "output_type": "stream",
          "name": "stdout",
          "text": [
            "La2H20.dyn1.elph.1  La2H20.dyn3.elph.3  La2H20.ph.out\n",
            "La2H20.dyn2.elph.2  La2H20.dyn4.elph.4  \u001b[0m\u001b[01;34mresults\u001b[0m/\n"
          ]
        }
      ]
    },
    {
      "cell_type": "markdown",
      "source": [
        "and its content"
      ],
      "metadata": {
        "id": "RFyW9gYEx0DY"
      }
    },
    {
      "cell_type": "code",
      "source": [
        "ls ../examples-public/La2H20/results"
      ],
      "metadata": {
        "colab": {
          "base_uri": "https://localhost:8080/"
        },
        "id": "-04AIbfrxzHF",
        "outputId": "e7b1e996-86fa-4db4-f73b-c313f8c108ac"
      },
      "execution_count": null,
      "outputs": [
        {
          "output_type": "stream",
          "name": "stdout",
          "text": [
            "2xLaH10.vasp        direct_s3.csv  plot_article_LaH10.pdf  result.json\n",
            "a2f_s3_r233_g1.csv  LaH10_225.cif  plot_s3_r233_g1.pdf\n"
          ]
        }
      ]
    },
    {
      "cell_type": "markdown",
      "source": [
        "where \n",
        "\n",
        "*   `2xLaH10.vasp` represents the structure taken from `La2H20.ph.out`\n",
        "*   `LaH10_225.cif` contains symmetrized structure\n",
        "*   `direct_s3.csv` file contains $\\lambda$, $\\omega_{\\log}$, $\\omega_2$ and $T_{\\mathrm{C}}$ (both McMillan and Allen-Dynes) and their dependence on $\\omega$. These values were computed directly from numbers given `dyn*.elph.*`.\n",
        "*   `a2f_s3_r233_g1.csv` contains values same as above + Eliashberg function $\\alpha^2f(\\omega)$, which was interpolated and used for their computations via integral.\n",
        "\n"
      ],
      "metadata": {
        "id": "dJPZmNJ8yFns"
      }
    },
    {
      "cell_type": "markdown",
      "source": [
        ""
      ],
      "metadata": {
        "id": "_69uLf8v14Q1"
      }
    },
    {
      "cell_type": "code",
      "source": [
        ""
      ],
      "metadata": {
        "id": "m7TnBbC0x3ht"
      },
      "execution_count": null,
      "outputs": []
    }
  ]
}